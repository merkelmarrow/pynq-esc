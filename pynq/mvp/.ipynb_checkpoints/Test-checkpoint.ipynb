{
 "cells": [
  {
   "cell_type": "code",
   "execution_count": 5,
   "id": "eb6b3367",
   "metadata": {
    "scrolled": false
   },
   "outputs": [
    {
     "name": "stdout",
     "output_type": "stream",
     "text": [
      "0xabcdabcd\n",
      "STATE=DCLKCHK   mmcm=(1,1)  rst_n=1 rst_ctrl=0  pwm_en=0  fault=0 sync_req=0  drdy=0 dclk=0 drdy_idx=0  ADC[4:0]=00000  halls=100  enc=(1,1)  nfault=1 pgd=1 bus_code= 283   phase=   0 pos12=4073  \n"
     ]
    }
   ],
   "source": [
    "from pynq import Overlay, MMIO\n",
    "import time, csv\n",
    "# import spidev\n",
    "\n",
    "ol = Overlay(\"/home/xilinx/jupyter_notebooks/esc/overlays/mvp/esc_mvp.bit\")\n",
    "ol.download()\n",
    "\n",
    "ol.ip_dict.keys()\n",
    "\n",
    "base = ol.ip_dict['axi_probe_0']['phys_addr']\n",
    "length = ol.ip_dict['axi_probe_0']['addr_range']\n",
    "mmio = MMIO(base, length)\n",
    "\n",
    "print(hex(mmio.read(0x00)))\n",
    "\n",
    "STATE = {0:\"RESET\",1:\"DCLKCHK\",2:\"DRDYWAIT\",3:\"RUN\",4:\"REALIGN\",5:\"FAULT\"}\n",
    "\n",
    "def read_regs():\n",
    "    r0 = mmio.read(0x00)\n",
    "    r1 = mmio.read(0x04) & 0xFFFF # live0\n",
    "    r2 = mmio.read(0x08) & 0xFFFF # live1\n",
    "    r3 = mmio.read(0x0C) & 0x0FFF # bus_voltage\n",
    "    r4 = mmio.read(0x10) # 8'b0, pos12[11:0], pwm_phase[11:0]\n",
    "    return r0,r1,r2,r3,r4\n",
    "\n",
    "def decode(r1,r2,r3,r4):\n",
    "    b = lambda x,n: (x>>n)&1\n",
    "    pos12 = (r4 >> 12) & 0x0FFF\n",
    "    pwm_phase = r4 & 0x0FFF\n",
    "    return {\n",
    "        # live0 (bits)\n",
    "        \"rst_n\": b(r1,0), \"dclk\": b(r1,1), \"drdy\": b(r1,2),\n",
    "        \"adc0\": b(r1,3), \"adc1\": b(r1,4), \"adc2\": b(r1,5), \"adc3\": b(r1,6), \"adc4\": b(r1,7),\n",
    "        \"hall1\": b(r1,8), \"hall2\": b(r1,9), \"hall3\": b(r1,10),\n",
    "        \"encA\": b(r1,11), \"encB\": b(r1,12), \"nfault\": b(r1,13), \"pgd\": b(r1,14),\n",
    "\n",
    "        # live1 (status/control)\n",
    "        \"mmcm1\": b(r2,0), \"mmcm2\": b(r2,1), \"rst_ctrl\": b(r2,2),\n",
    "        \"timing_fault\": b(r2,3), \"pwm_ctr_en\": b(r2,4),\n",
    "        \"compute_trig\": b(r2,5), \"adc_sync_req\": b(r2,6),\n",
    "        \"timing_state\": (r2>>7)&0x7, \"drdy_idx\": (r2>>10)&0x7,\n",
    "\n",
    "        # other\n",
    "        \"bus_code\": r3,\n",
    "        \"pwm_phase\": pwm_phase,\n",
    "        \"pos12\": pos12\n",
    "    }\n",
    "\n",
    "def print_status(d):\n",
    "    print(\n",
    "        f\"STATE={STATE[d['timing_state']]:8s}  mmcm=({d['mmcm1']},{d['mmcm2']})  \"\n",
    "        f\"rst_n={d['rst_n']} rst_ctrl={d['rst_ctrl']}  pwm_en={d['pwm_ctr_en']}  \"\n",
    "        f\"fault={d['timing_fault']} sync_req={d['adc_sync_req']}  \"\n",
    "        f\"drdy={d['drdy']} dclk={d['dclk']} drdy_idx={d['drdy_idx']}  \"\n",
    "        f\"ADC[4:0]={d['adc4']}{d['adc3']}{d['adc2']}{d['adc1']}{d['adc0']}  \"\n",
    "        f\"halls={d['hall3']}{d['hall2']}{d['hall1']}  enc=({d['encA']},{d['encB']})  \"\n",
    "        f\"nfault={d['nfault']} pgd={d['pgd']} bus_code={d['bus_code']:4d}  \",\n",
    "        f\"phase={d['pwm_phase']:4d} pos12={d['pos12']:4d}  \",\n",
    "        end=\"\\r\", flush=True\n",
    "    )\n",
    "\n",
    "duration_s = 100\n",
    "t0 = time.time()\n",
    "while time.time() - t0 < duration_s:\n",
    "    _,r1,r2,r3,r4 = read_regs()\n",
    "    print_status(decode(r1,r2,r3,r4))\n",
    "    time.sleep(0.05)\n",
    "print()\n",
    "\n"
   ]
  },
  {
   "cell_type": "code",
   "execution_count": null,
   "id": "c5865a48",
   "metadata": {},
   "outputs": [],
   "source": [
    "# SPI verification\n",
    "\n",
    "# compilation of the device tree source file\n",
    "# dtc -@ -I dts -O dtb -o esc_mvp.dtbo esc_dt.dts\n",
    "\n",
    "# in __symbols__, spi0 resolves to /axi/spi@e0006000\n",
    "# but in aliases, spi0 resolves to /axi/spi@e000d000 which is QSPI\n",
    "# be careful of that\n",
    "\n",
    "# use compatible = \"linux,spidev\" so the spidev driver binds\n",
    "\n",
    "import os, glob\n",
    "from pynq import Overlay\n",
    "\n",
    "base = \"/home/xilinx/jupyter_notebooks/esc/overlays/mvp/esc_mvp\"\n",
    "\n",
    "ol = Overlay(base + \".bit\", dtbo=base + \".dtbo\")\n",
    "ol.download()\n",
    "print(\"Bitstream + DTBO loaded\")\n",
    "\n",
    "print(\"SPI masters:\", os.listdir(\"/sys/class/spi_master\"))\n",
    "print(\"SPI devices:\", os.listdir(\"/sys/bus/spi/devices\") if os.path.isdir(\"/sys/bus/spi/devices\") else \"(none)\")\n",
    "spidevs = sorted(glob.glob(\"/dev/spidev*\"))\n",
    "print(\"spidev nodes:\", spidevs or \"(none)\")\n"
   ]
  }
 ],
 "metadata": {
  "kernelspec": {
   "display_name": "Python 3 (ipykernel)",
   "language": "python",
   "name": "python3"
  },
  "language_info": {
   "codemirror_mode": {
    "name": "ipython",
    "version": 3
   },
   "file_extension": ".py",
   "mimetype": "text/x-python",
   "name": "python",
   "nbconvert_exporter": "python",
   "pygments_lexer": "ipython3",
   "version": "3.10.4"
  }
 },
 "nbformat": 4,
 "nbformat_minor": 5
}
